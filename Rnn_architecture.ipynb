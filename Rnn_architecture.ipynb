{
  "nbformat": 4,
  "nbformat_minor": 0,
  "metadata": {
    "colab": {
      "provenance": [],
      "authorship_tag": "ABX9TyNBILJUXpZ8d/jfpOd2RCWH",
      "include_colab_link": true
    },
    "kernelspec": {
      "name": "python3",
      "display_name": "Python 3"
    },
    "language_info": {
      "name": "python"
    }
  },
  "cells": [
    {
      "cell_type": "markdown",
      "metadata": {
        "id": "view-in-github",
        "colab_type": "text"
      },
      "source": [
        "<a href=\"https://colab.research.google.com/github/RENJITHVS/RNN/blob/main/Rnn_architecture.ipynb\" target=\"_parent\"><img src=\"https://colab.research.google.com/assets/colab-badge.svg\" alt=\"Open In Colab\"/></a>"
      ]
    },
    {
      "cell_type": "code",
      "execution_count": 1,
      "metadata": {
        "id": "hoMuHWqNiVrm"
      },
      "outputs": [],
      "source": [
        "from keras import Sequential\n",
        "from keras.layers import Dense,SimpleRNN"
      ]
    },
    {
      "cell_type": "code",
      "source": [
        "\n",
        "model = Sequential()\n",
        "\n",
        "model.add(SimpleRNN(3,input_shape=(4,5)))\n",
        "model.add(Dense(1, activation='sigmoid'))\n",
        "\n",
        "model.summary()"
      ],
      "metadata": {
        "colab": {
          "base_uri": "https://localhost:8080/"
        },
        "id": "FZEUjfQwikQF",
        "outputId": "a991375f-01a1-46e5-d1da-b57a3af64518"
      },
      "execution_count": 3,
      "outputs": [
        {
          "output_type": "stream",
          "name": "stdout",
          "text": [
            "Model: \"sequential_1\"\n",
            "_________________________________________________________________\n",
            " Layer (type)                Output Shape              Param #   \n",
            "=================================================================\n",
            " simple_rnn_1 (SimpleRNN)    (None, 3)                 27        \n",
            "                                                                 \n",
            " dense (Dense)               (None, 1)                 4         \n",
            "                                                                 \n",
            "=================================================================\n",
            "Total params: 31\n",
            "Trainable params: 31\n",
            "Non-trainable params: 0\n",
            "_________________________________________________________________\n"
          ]
        }
      ]
    },
    {
      "cell_type": "code",
      "source": [
        "\n",
        "print(\"weights of first layer\")\n",
        "print(model.get_weights()[0].shape)\n",
        "print(model.get_weights()[0])\n",
        "print(\"weights of rolled RNN\")\n",
        "print(model.get_weights()[1].shape)\n",
        "print(model.get_weights()[1])\n",
        "print(\"biase for first layer\")\n",
        "print(model.get_weights()[2].shape)\n",
        "print(model.get_weights()[2])\n",
        "print(\"weights of output layer\")\n",
        "print(model.get_weights()[3].shape)\n",
        "print(model.get_weights()[3])\n",
        "print(\"biases of output layer\")\n",
        "print(model.get_weights()[4].shape)\n",
        "print(model.get_weights()[4])"
      ],
      "metadata": {
        "colab": {
          "base_uri": "https://localhost:8080/"
        },
        "id": "boVL2W9JjI8g",
        "outputId": "d3c7735f-e046-4176-f8df-47481b2b38b8"
      },
      "execution_count": 13,
      "outputs": [
        {
          "output_type": "stream",
          "name": "stdout",
          "text": [
            "weights of first layer\n",
            "(5, 3)\n",
            "[[ 0.07520121 -0.45883176 -0.4907617 ]\n",
            " [ 0.5788807  -0.04925185 -0.76531357]\n",
            " [ 0.70517606 -0.46109372  0.11665779]\n",
            " [ 0.42691547  0.35888535 -0.6260394 ]\n",
            " [ 0.48948818 -0.5887765   0.05106246]]\n",
            "weights of rolled RNN\n",
            "(3, 3)\n",
            "[[-0.90258    -0.08918243  0.4211839 ]\n",
            " [-0.36625117  0.6732851  -0.6422984 ]\n",
            " [ 0.22629514  0.73398477  0.64035684]]\n",
            "biase for first layer\n",
            "(3,)\n",
            "[0. 0. 0.]\n",
            "weights of output layer\n",
            "(3, 1)\n",
            "[[-0.33566356]\n",
            " [ 0.3445121 ]\n",
            " [ 0.02460814]]\n",
            "biases of output layer\n",
            "(1,)\n",
            "[0.]\n"
          ]
        }
      ]
    },
    {
      "cell_type": "code",
      "source": [],
      "metadata": {
        "id": "XokP5x2lkF6Q"
      },
      "execution_count": null,
      "outputs": []
    }
  ]
}