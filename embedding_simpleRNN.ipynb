{
  "nbformat": 4,
  "nbformat_minor": 0,
  "metadata": {
    "colab": {
      "provenance": [],
      "authorship_tag": "ABX9TyPeE7gX7xTQRD0csffrfAVZ",
      "include_colab_link": true
    },
    "kernelspec": {
      "name": "python3",
      "display_name": "Python 3"
    },
    "language_info": {
      "name": "python"
    },
    "accelerator": "GPU",
    "gpuClass": "standard"
  },
  "cells": [
    {
      "cell_type": "markdown",
      "metadata": {
        "id": "view-in-github",
        "colab_type": "text"
      },
      "source": [
        "<a href=\"https://colab.research.google.com/github/RENJITHVS/RNN/blob/main/embedding_simpleRNN.ipynb\" target=\"_parent\"><img src=\"https://colab.research.google.com/assets/colab-badge.svg\" alt=\"Open In Colab\"/></a>"
      ]
    },
    {
      "cell_type": "markdown",
      "source": [
        "### Embedding\n",
        "\n",
        "in NLP, word embedding is a term used for the representaion of words for text analysis, typically in the form of real-valued vector that encodes the meaning of the word such that the words that are closer in the vector space are expected to be similar in meaning (semanting meaning).\n",
        "\n",
        "Eg: word2Vec, Glove\n",
        "\n",
        "- When we use interger encoding , it has a lot of sparce vectors (most values are zeros), so most values are zeros."
      ],
      "metadata": {
        "id": "-6nTN2vGWz91"
      }
    },
    {
      "cell_type": "code",
      "source": [
        "from keras.preprocessing.text import Tokenizer\n",
        "tokenizer = Tokenizer()"
      ],
      "metadata": {
        "id": "mqoBH8qOZszW"
      },
      "execution_count": 1,
      "outputs": []
    },
    {
      "cell_type": "code",
      "source": [
        "import numpy as np\n",
        "\n",
        "input_data = ['go india',\n",
        "\t\t'india india',\n",
        "\t\t'hip hip hurray',\n",
        "\t\t'thu thuru thu thuru thumbi',\n",
        "    'poda pulle police ninne pinne kandoolam',\n",
        "\t\t'bharat mata ki jai',\n",
        "\t\t'kohli kohli',\n",
        "\t\t'sachin sachin',\n",
        "\t\t'dhoni dhoni',\n",
        "\t\t'pooomanamee oru raaga meegma thaaa',\n",
        "\t\t'inquilab Zindabad']"
      ],
      "metadata": {
        "id": "xDIejFRwZ1hN"
      },
      "execution_count": 2,
      "outputs": []
    },
    {
      "cell_type": "code",
      "source": [
        "tokenizer.fit_on_texts(input_data)"
      ],
      "metadata": {
        "id": "xQnatU3kqsmF"
      },
      "execution_count": 3,
      "outputs": []
    },
    {
      "cell_type": "code",
      "source": [
        "len(tokenizer.word_index)"
      ],
      "metadata": {
        "colab": {
          "base_uri": "https://localhost:8080/"
        },
        "id": "QVTfI3LMqu8Q",
        "outputId": "798fbe68-310b-4e34-9fd1-ea94d2866b6f"
      },
      "execution_count": 4,
      "outputs": [
        {
          "output_type": "execute_result",
          "data": {
            "text/plain": [
              "27"
            ]
          },
          "metadata": {},
          "execution_count": 4
        }
      ]
    },
    {
      "cell_type": "code",
      "source": [
        "sequences = tokenizer.texts_to_sequences(input_data)\n",
        "sequences"
      ],
      "metadata": {
        "colab": {
          "base_uri": "https://localhost:8080/"
        },
        "id": "be5BPpKDq3OS",
        "outputId": "640e3ee0-f12c-4e90-cfdc-d88f5e60e6cf"
      },
      "execution_count": 5,
      "outputs": [
        {
          "output_type": "execute_result",
          "data": {
            "text/plain": [
              "[[8, 1],\n",
              " [1, 1],\n",
              " [2, 2, 9],\n",
              " [3, 4, 3, 4, 10],\n",
              " [11, 12, 13, 14, 15, 16],\n",
              " [17, 18, 19, 20],\n",
              " [5, 5],\n",
              " [6, 6],\n",
              " [7, 7],\n",
              " [21, 22, 23, 24, 25],\n",
              " [26, 27]]"
            ]
          },
          "metadata": {},
          "execution_count": 5
        }
      ]
    },
    {
      "cell_type": "code",
      "source": [
        "from keras.utils import pad_sequences\n",
        "sequences = pad_sequences(sequences,padding='post')\n",
        "sequences"
      ],
      "metadata": {
        "colab": {
          "base_uri": "https://localhost:8080/"
        },
        "id": "zAxKq7nmjrKf",
        "outputId": "471e4666-257f-4083-ac6e-80ce2accaacd"
      },
      "execution_count": 13,
      "outputs": [
        {
          "output_type": "execute_result",
          "data": {
            "text/plain": [
              "array([[ 8,  1,  0,  0,  0,  0],\n",
              "       [ 1,  1,  0,  0,  0,  0],\n",
              "       [ 2,  2,  9,  0,  0,  0],\n",
              "       [ 3,  4,  3,  4, 10,  0],\n",
              "       [11, 12, 13, 14, 15, 16],\n",
              "       [17, 18, 19, 20,  0,  0],\n",
              "       [ 5,  5,  0,  0,  0,  0],\n",
              "       [ 6,  6,  0,  0,  0,  0],\n",
              "       [ 7,  7,  0,  0,  0,  0],\n",
              "       [21, 22, 23, 24, 25,  0],\n",
              "       [26, 27,  0,  0,  0,  0]], dtype=int32)"
            ]
          },
          "metadata": {},
          "execution_count": 13
        }
      ]
    },
    {
      "cell_type": "code",
      "source": [
        "from keras.datasets import imdb\n",
        "from keras import Sequential\n",
        "from keras.layers import Dense,SimpleRNN,Embedding,Flatten"
      ],
      "metadata": {
        "id": "o9L38ZGtfN1G"
      },
      "execution_count": 7,
      "outputs": []
    },
    {
      "cell_type": "code",
      "source": [
        "model = Sequential()\n",
        "model.add(Embedding(27,output_dim=2,input_length=6))\n",
        "\n",
        "model.summary()"
      ],
      "metadata": {
        "id": "dTGHH1UJq55D",
        "colab": {
          "base_uri": "https://localhost:8080/"
        },
        "outputId": "d26e59d6-242f-4a44-8c6b-023c416291df"
      },
      "execution_count": 15,
      "outputs": [
        {
          "output_type": "stream",
          "name": "stdout",
          "text": [
            "Model: \"sequential_2\"\n",
            "_________________________________________________________________\n",
            " Layer (type)                Output Shape              Param #   \n",
            "=================================================================\n",
            " embedding_2 (Embedding)     (None, 6, 2)              54        \n",
            "                                                                 \n",
            "=================================================================\n",
            "Total params: 54\n",
            "Trainable params: 54\n",
            "Non-trainable params: 0\n",
            "_________________________________________________________________\n"
          ]
        }
      ]
    },
    {
      "cell_type": "code",
      "source": [
        "model.compile('adam','accuracy')\n",
        "pred = model.predict(sequences)\n",
        "print(pred)"
      ],
      "metadata": {
        "colab": {
          "base_uri": "https://localhost:8080/"
        },
        "id": "Kpfi1602e3D1",
        "outputId": "e230bb69-4a83-419f-9056-de9e71b726bb"
      },
      "execution_count": 16,
      "outputs": [
        {
          "output_type": "stream",
          "name": "stdout",
          "text": [
            "1/1 [==============================] - 0s 55ms/step\n",
            "[[[-0.04336268 -0.01339508]\n",
            "  [-0.00740581 -0.01423254]\n",
            "  [ 0.00448662 -0.02506871]\n",
            "  [ 0.00448662 -0.02506871]\n",
            "  [ 0.00448662 -0.02506871]\n",
            "  [ 0.00448662 -0.02506871]]\n",
            "\n",
            " [[-0.00740581 -0.01423254]\n",
            "  [-0.00740581 -0.01423254]\n",
            "  [ 0.00448662 -0.02506871]\n",
            "  [ 0.00448662 -0.02506871]\n",
            "  [ 0.00448662 -0.02506871]\n",
            "  [ 0.00448662 -0.02506871]]\n",
            "\n",
            " [[ 0.02237822  0.02650196]\n",
            "  [ 0.02237822  0.02650196]\n",
            "  [-0.04004588 -0.01175297]\n",
            "  [ 0.00448662 -0.02506871]\n",
            "  [ 0.00448662 -0.02506871]\n",
            "  [ 0.00448662 -0.02506871]]\n",
            "\n",
            " [[ 0.02100855 -0.04216139]\n",
            "  [ 0.04500485  0.01227108]\n",
            "  [ 0.02100855 -0.04216139]\n",
            "  [ 0.04500485  0.01227108]\n",
            "  [-0.00341846  0.0170234 ]\n",
            "  [ 0.00448662 -0.02506871]]\n",
            "\n",
            " [[-0.01418455  0.00674997]\n",
            "  [ 0.03903138 -0.02556773]\n",
            "  [-0.04248315  0.04448276]\n",
            "  [ 0.029027   -0.03768801]\n",
            "  [-0.03079057 -0.01313074]\n",
            "  [-0.03582463  0.02015814]]\n",
            "\n",
            " [[ 0.0373241   0.02426933]\n",
            "  [-0.01999663  0.00977255]\n",
            "  [-0.02445836 -0.01256498]\n",
            "  [-0.01155027  0.00180816]\n",
            "  [ 0.00448662 -0.02506871]\n",
            "  [ 0.00448662 -0.02506871]]\n",
            "\n",
            " [[ 0.02663097  0.04490482]\n",
            "  [ 0.02663097  0.04490482]\n",
            "  [ 0.00448662 -0.02506871]\n",
            "  [ 0.00448662 -0.02506871]\n",
            "  [ 0.00448662 -0.02506871]\n",
            "  [ 0.00448662 -0.02506871]]\n",
            "\n",
            " [[-0.04776774 -0.03008616]\n",
            "  [-0.04776774 -0.03008616]\n",
            "  [ 0.00448662 -0.02506871]\n",
            "  [ 0.00448662 -0.02506871]\n",
            "  [ 0.00448662 -0.02506871]\n",
            "  [ 0.00448662 -0.02506871]]\n",
            "\n",
            " [[ 0.00884515 -0.00363449]\n",
            "  [ 0.00884515 -0.00363449]\n",
            "  [ 0.00448662 -0.02506871]\n",
            "  [ 0.00448662 -0.02506871]\n",
            "  [ 0.00448662 -0.02506871]\n",
            "  [ 0.00448662 -0.02506871]]\n",
            "\n",
            " [[ 0.00692624 -0.00247446]\n",
            "  [-0.00959448  0.02796498]\n",
            "  [ 0.01428225  0.03767279]\n",
            "  [-0.03581591  0.03028231]\n",
            "  [ 0.00362772 -0.04981759]\n",
            "  [ 0.00448662 -0.02506871]]\n",
            "\n",
            " [[ 0.03666    -0.04331248]\n",
            "  [ 0.          0.        ]\n",
            "  [ 0.00448662 -0.02506871]\n",
            "  [ 0.00448662 -0.02506871]\n",
            "  [ 0.00448662 -0.02506871]\n",
            "  [ 0.00448662 -0.02506871]]]\n"
          ]
        }
      ]
    },
    {
      "cell_type": "code",
      "source": [
        "(X_train,y_train),(X_test,y_test) = imdb.load_data()"
      ],
      "metadata": {
        "colab": {
          "base_uri": "https://localhost:8080/"
        },
        "id": "Vn9nSHsAjhnH",
        "outputId": "3fe34d64-b121-44a0-d3c0-b96dce4ffbbe"
      },
      "execution_count": 17,
      "outputs": [
        {
          "output_type": "stream",
          "name": "stdout",
          "text": [
            "Downloading data from https://storage.googleapis.com/tensorflow/tf-keras-datasets/imdb.npz\n",
            "17464789/17464789 [==============================] - 0s 0us/step\n"
          ]
        }
      ]
    },
    {
      "cell_type": "code",
      "source": [
        "X_train = pad_sequences(X_train,padding='post',maxlen=50)\n",
        "X_test = pad_sequences(X_test,padding='post',maxlen=50)"
      ],
      "metadata": {
        "id": "xWHXNgrDkQZv"
      },
      "execution_count": 18,
      "outputs": []
    },
    {
      "cell_type": "code",
      "source": [
        "X_train.shape"
      ],
      "metadata": {
        "colab": {
          "base_uri": "https://localhost:8080/"
        },
        "id": "S083JwETkYEW",
        "outputId": "8a0e1b78-ea2f-4208-eb09-ddf846b56d42"
      },
      "execution_count": 19,
      "outputs": [
        {
          "output_type": "execute_result",
          "data": {
            "text/plain": [
              "(25000, 50)"
            ]
          },
          "metadata": {},
          "execution_count": 19
        }
      ]
    },
    {
      "cell_type": "code",
      "source": [
        "model = Sequential()\n",
        "model.add(Embedding(10000, 2,input_length= 50))\n",
        "model.add(SimpleRNN(32,return_sequences=False))\n",
        "model.add(Dense(1, activation='sigmoid'))\n",
        "\n",
        "model.summary()"
      ],
      "metadata": {
        "colab": {
          "base_uri": "https://localhost:8080/"
        },
        "id": "JFNw5Tk2kaA3",
        "outputId": "92fbefc9-b40f-4f23-a16b-ac131004ee33"
      },
      "execution_count": 22,
      "outputs": [
        {
          "output_type": "stream",
          "name": "stdout",
          "text": [
            "Model: \"sequential_5\"\n",
            "_________________________________________________________________\n",
            " Layer (type)                Output Shape              Param #   \n",
            "=================================================================\n",
            " embedding_5 (Embedding)     (None, 50, 2)             20000     \n",
            "                                                                 \n",
            " simple_rnn (SimpleRNN)      (None, 32)                1120      \n",
            "                                                                 \n",
            " dense (Dense)               (None, 1)                 33        \n",
            "                                                                 \n",
            "=================================================================\n",
            "Total params: 21,153\n",
            "Trainable params: 21,153\n",
            "Non-trainable params: 0\n",
            "_________________________________________________________________\n"
          ]
        }
      ]
    },
    {
      "cell_type": "code",
      "source": [],
      "metadata": {
        "id": "q8MlxzrMkemP"
      },
      "execution_count": null,
      "outputs": []
    }
  ]
}