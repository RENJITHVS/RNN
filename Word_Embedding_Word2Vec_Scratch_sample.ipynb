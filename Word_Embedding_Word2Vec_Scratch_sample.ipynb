{
  "nbformat": 4,
  "nbformat_minor": 0,
  "metadata": {
    "colab": {
      "provenance": [],
      "authorship_tag": "ABX9TyOl3objKVJ2uOh1ULPNZs1m",
      "include_colab_link": true
    },
    "kernelspec": {
      "name": "python3",
      "display_name": "Python 3"
    },
    "language_info": {
      "name": "python"
    }
  },
  "cells": [
    {
      "cell_type": "markdown",
      "metadata": {
        "id": "view-in-github",
        "colab_type": "text"
      },
      "source": [
        "<a href=\"https://colab.research.google.com/github/RENJITHVS/RNN/blob/main/Word_Embedding_Word2Vec_Scratch_sample.ipynb\" target=\"_parent\"><img src=\"https://colab.research.google.com/assets/colab-badge.svg\" alt=\"Open In Colab\"/></a>"
      ]
    },
    {
      "cell_type": "markdown",
      "source": [
        "\n",
        "*   Step 1: Load data\n",
        "*   Step 2: Create Bigrams\n",
        "*   Step 3: Preform One-hot Encoding \n",
        "*   Step 4: Create model and train\n",
        "*   Step 5: Visualize results\n"
      ],
      "metadata": {
        "id": "0I3-mauKa3xX"
      }
    },
    {
      "cell_type": "markdown",
      "source": [
        "## Load Data"
      ],
      "metadata": {
        "id": "Wu72FUP9bz4P"
      }
    },
    {
      "cell_type": "code",
      "source": [
        "file = open('/content/sample_data/Royal_data.txt','r')\n",
        "royal_data = file.readlines()\n",
        "file.close()"
      ],
      "metadata": {
        "id": "ZCkR8kkma4Yl"
      },
      "execution_count": 4,
      "outputs": []
    },
    {
      "cell_type": "code",
      "source": [
        "print(royal_data)"
      ],
      "metadata": {
        "colab": {
          "base_uri": "https://localhost:8080/"
        },
        "id": "cqmRtAwicbx3",
        "outputId": "663f65ff-5098-45da-cd06-2fbc8ad64e4f"
      },
      "execution_count": 5,
      "outputs": [
        {
          "output_type": "stream",
          "name": "stdout",
          "text": [
            "['The future king is the prince\\n', 'Daughter is the princess\\n', 'Son is the prince\\n', 'Only a man can be a king\\n', 'Only a woman can be a queen\\n', 'The princess will be a queen\\n', 'The prince is a strong man\\n', 'The princess is a beautiful woman\\n', 'Prince is only a boy now\\n', 'Prince will be king\\n', 'A boy will be a man']\n"
          ]
        }
      ]
    },
    {
      "cell_type": "code",
      "source": [
        "for i in range(len(royal_data)):\n",
        "  royal_data[i] = royal_data[i].lower().replace('\\n','')\n",
        "\n",
        "print(royal_data)"
      ],
      "metadata": {
        "colab": {
          "base_uri": "https://localhost:8080/"
        },
        "id": "jqbAg5D5cfZ3",
        "outputId": "521002f0-a8e9-48a7-f8e1-055c3827d1ca"
      },
      "execution_count": 7,
      "outputs": [
        {
          "output_type": "stream",
          "name": "stdout",
          "text": [
            "['the future king is the prince', 'daughter is the princess', 'son is the prince', 'only a man can be a king', 'only a woman can be a queen', 'the princess will be a queen', 'the prince is a strong man', 'the princess is a beautiful woman', 'prince is only a boy now', 'prince will be king', 'a boy will be a man']\n"
          ]
        }
      ]
    },
    {
      "cell_type": "markdown",
      "source": [
        "## Remove the stop words and Tokenize"
      ],
      "metadata": {
        "id": "8-7bGdA-dQlm"
      }
    },
    {
      "cell_type": "code",
      "source": [
        "# use nltk libraries for better results"
      ],
      "metadata": {
        "id": "BRD4qg-Qc0ZG"
      },
      "execution_count": 8,
      "outputs": []
    },
    {
      "cell_type": "code",
      "source": [
        "stopwords = ['the', 'is', 'will', 'be', 'a', 'only', 'can', 'their', 'now', 'and', 'at', 'it']\n",
        "\n",
        "filter_data = []\n",
        "\n",
        "for data in royal_data:\n",
        "  temp = []\n",
        "  for word in data.split():\n",
        "    if word not in stopwords:\n",
        "      temp.append(word)\n",
        "  filter_data.append(temp)\n",
        "\n",
        "print(filter_data)\n",
        "\n"
      ],
      "metadata": {
        "colab": {
          "base_uri": "https://localhost:8080/"
        },
        "id": "rsIJOTnQeFNG",
        "outputId": "4b1b58b8-e643-44ea-82c2-b8eb217eae61"
      },
      "execution_count": 14,
      "outputs": [
        {
          "output_type": "stream",
          "name": "stdout",
          "text": [
            "[['future', 'king', 'prince'], ['daughter', 'princess'], ['son', 'prince'], ['man', 'king'], ['woman', 'queen'], ['princess', 'queen'], ['prince', 'strong', 'man'], ['princess', 'beautiful', 'woman'], ['prince', 'boy'], ['prince', 'king'], ['boy', 'man']]\n"
          ]
        }
      ]
    },
    {
      "cell_type": "markdown",
      "source": [
        "## Create Biagrams"
      ],
      "metadata": {
        "id": "GHk5BLF9iBE4"
      }
    },
    {
      "cell_type": "code",
      "source": [
        "biagrams=[]\n",
        "\n",
        "for word_list in filter_data:\n",
        "  for i in range(len(word_list)-1):\n",
        "    for j in range(i+1, len(word_list)):\n",
        "      biagrams.append([word_list[i],word_list[j]])\n",
        "      biagrams.append([word_list[j],word_list[i]])\n",
        "\n",
        "print(biagrams)"
      ],
      "metadata": {
        "colab": {
          "base_uri": "https://localhost:8080/"
        },
        "id": "6kN_oxzwiEYs",
        "outputId": "69f4e727-8af7-4a4b-e28c-eb70ff8a2a1f"
      },
      "execution_count": 16,
      "outputs": [
        {
          "output_type": "stream",
          "name": "stdout",
          "text": [
            "[['future', 'king'], ['king', 'future'], ['future', 'prince'], ['prince', 'future'], ['king', 'prince'], ['prince', 'king'], ['daughter', 'princess'], ['princess', 'daughter'], ['son', 'prince'], ['prince', 'son'], ['man', 'king'], ['king', 'man'], ['woman', 'queen'], ['queen', 'woman'], ['princess', 'queen'], ['queen', 'princess'], ['prince', 'strong'], ['strong', 'prince'], ['prince', 'man'], ['man', 'prince'], ['strong', 'man'], ['man', 'strong'], ['princess', 'beautiful'], ['beautiful', 'princess'], ['princess', 'woman'], ['woman', 'princess'], ['beautiful', 'woman'], ['woman', 'beautiful'], ['prince', 'boy'], ['boy', 'prince'], ['prince', 'king'], ['king', 'prince'], ['boy', 'man'], ['man', 'boy']]\n"
          ]
        }
      ]
    },
    {
      "cell_type": "markdown",
      "source": [
        "## Vocabulary"
      ],
      "metadata": {
        "id": "2iYURjB-jhPW"
      }
    },
    {
      "cell_type": "code",
      "source": [
        "all_words = []\n",
        "\n",
        "for sent in filter_data:\n",
        "  all_words.extend(sent)\n",
        "\n",
        "print(all_words)"
      ],
      "metadata": {
        "colab": {
          "base_uri": "https://localhost:8080/"
        },
        "id": "GLn8Q_4VjWJT",
        "outputId": "0016ca64-5881-45ee-bd5d-e492c2ca9064"
      },
      "execution_count": 17,
      "outputs": [
        {
          "output_type": "stream",
          "name": "stdout",
          "text": [
            "['future', 'king', 'prince', 'daughter', 'princess', 'son', 'prince', 'man', 'king', 'woman', 'queen', 'princess', 'queen', 'prince', 'strong', 'man', 'princess', 'beautiful', 'woman', 'prince', 'boy', 'prince', 'king', 'boy', 'man']\n"
          ]
        }
      ]
    },
    {
      "cell_type": "code",
      "source": [
        "all_words = list(set(all_words))"
      ],
      "metadata": {
        "id": "guT0Wt0Dj-SF"
      },
      "execution_count": 18,
      "outputs": []
    },
    {
      "cell_type": "code",
      "source": [
        "print(len(all_words))\n",
        "print(all_words)"
      ],
      "metadata": {
        "colab": {
          "base_uri": "https://localhost:8080/"
        },
        "id": "adx6PitWkJhE",
        "outputId": "5e32e706-9c89-4b6d-f458-d6f63676adbb"
      },
      "execution_count": 19,
      "outputs": [
        {
          "output_type": "stream",
          "name": "stdout",
          "text": [
            "12\n",
            "['man', 'woman', 'king', 'beautiful', 'boy', 'son', 'princess', 'strong', 'queen', 'future', 'daughter', 'prince']\n"
          ]
        }
      ]
    },
    {
      "cell_type": "markdown",
      "source": [
        "## One hot Encoding"
      ],
      "metadata": {
        "id": "rZdNfncIkXSt"
      }
    },
    {
      "cell_type": "code",
      "source": [
        "\n",
        "word_dict = {}\n",
        "counter = 0\n",
        "for word in all_words:\n",
        "  word_dict[word] = counter\n",
        "  counter+=1\n",
        "\n",
        "print(word_dict)"
      ],
      "metadata": {
        "colab": {
          "base_uri": "https://localhost:8080/"
        },
        "id": "4cDJLiaRkQWc",
        "outputId": "a95d69ab-2592-4663-8444-041147e967e1"
      },
      "execution_count": 22,
      "outputs": [
        {
          "output_type": "stream",
          "name": "stdout",
          "text": [
            "{'man': 0, 'woman': 1, 'king': 2, 'beautiful': 3, 'boy': 4, 'son': 5, 'princess': 6, 'strong': 7, 'queen': 8, 'future': 9, 'daughter': 10, 'prince': 11}\n"
          ]
        }
      ]
    },
    {
      "cell_type": "code",
      "source": [
        "import numpy as np\n",
        "\n",
        "one_hot_data = np.zeros((len(all_words), len(all_words)))\n",
        "for i in range(len(all_words)):\n",
        "  one_hot_data[i][i] = 1\n",
        "\n",
        "print(one_hot_data)\n",
        " \n",
        "one_hot_dict = {}\n",
        "for i in range(len(all_words)):\n",
        "  one_hot_dict[all_words[i]] = one_hot_data[i]\n",
        "\n",
        "for word in one_hot_dict:\n",
        "  print(word,\":\", one_hot_dict[word])"
      ],
      "metadata": {
        "colab": {
          "base_uri": "https://localhost:8080/"
        },
        "id": "fPAXrEQtkvGf",
        "outputId": "89cbde9a-7f0f-4fe6-ab63-8ce869324d78"
      },
      "execution_count": 24,
      "outputs": [
        {
          "output_type": "stream",
          "name": "stdout",
          "text": [
            "[[1. 0. 0. 0. 0. 0. 0. 0. 0. 0. 0. 0.]\n",
            " [0. 1. 0. 0. 0. 0. 0. 0. 0. 0. 0. 0.]\n",
            " [0. 0. 1. 0. 0. 0. 0. 0. 0. 0. 0. 0.]\n",
            " [0. 0. 0. 1. 0. 0. 0. 0. 0. 0. 0. 0.]\n",
            " [0. 0. 0. 0. 1. 0. 0. 0. 0. 0. 0. 0.]\n",
            " [0. 0. 0. 0. 0. 1. 0. 0. 0. 0. 0. 0.]\n",
            " [0. 0. 0. 0. 0. 0. 1. 0. 0. 0. 0. 0.]\n",
            " [0. 0. 0. 0. 0. 0. 0. 1. 0. 0. 0. 0.]\n",
            " [0. 0. 0. 0. 0. 0. 0. 0. 1. 0. 0. 0.]\n",
            " [0. 0. 0. 0. 0. 0. 0. 0. 0. 1. 0. 0.]\n",
            " [0. 0. 0. 0. 0. 0. 0. 0. 0. 0. 1. 0.]\n",
            " [0. 0. 0. 0. 0. 0. 0. 0. 0. 0. 0. 1.]]\n",
            "man : [1. 0. 0. 0. 0. 0. 0. 0. 0. 0. 0. 0.]\n",
            "woman : [0. 1. 0. 0. 0. 0. 0. 0. 0. 0. 0. 0.]\n",
            "king : [0. 0. 1. 0. 0. 0. 0. 0. 0. 0. 0. 0.]\n",
            "beautiful : [0. 0. 0. 1. 0. 0. 0. 0. 0. 0. 0. 0.]\n",
            "boy : [0. 0. 0. 0. 1. 0. 0. 0. 0. 0. 0. 0.]\n",
            "son : [0. 0. 0. 0. 0. 1. 0. 0. 0. 0. 0. 0.]\n",
            "princess : [0. 0. 0. 0. 0. 0. 1. 0. 0. 0. 0. 0.]\n",
            "strong : [0. 0. 0. 0. 0. 0. 0. 1. 0. 0. 0. 0.]\n",
            "queen : [0. 0. 0. 0. 0. 0. 0. 0. 1. 0. 0. 0.]\n",
            "future : [0. 0. 0. 0. 0. 0. 0. 0. 0. 1. 0. 0.]\n",
            "daughter : [0. 0. 0. 0. 0. 0. 0. 0. 0. 0. 1. 0.]\n",
            "prince : [0. 0. 0. 0. 0. 0. 0. 0. 0. 0. 0. 1.]\n"
          ]
        }
      ]
    },
    {
      "cell_type": "code",
      "source": [
        "X = []\n",
        "Y = []\n",
        "\n",
        "for bi in biagrams:\n",
        "    X.append(one_hot_dict[bi[0]])\n",
        "    Y.append(one_hot_dict[bi[1]])\n",
        "    \n",
        "X = np.array(X)\n",
        "Y = np.array(Y)"
      ],
      "metadata": {
        "id": "d6Sruyu0r22w"
      },
      "execution_count": 25,
      "outputs": []
    },
    {
      "cell_type": "markdown",
      "source": [
        "## Model train - Embedding"
      ],
      "metadata": {
        "id": "oDyfvPWFss80"
      }
    },
    {
      "cell_type": "code",
      "source": [
        "from keras.models import Sequential\n",
        "from keras.layers import Dense, Input\n",
        "\n",
        "embed_size = 2\n",
        "\n",
        "model = Sequential([\n",
        "    \n",
        "    Dense(embed_size, activation='linear'),\n",
        "    Dense(Y.shape[1], activation = 'softmax')\n",
        "])\n",
        "\n",
        "model.compile(loss = 'categorical_crossentropy', optimizer = 'adam')"
      ],
      "metadata": {
        "id": "K1cP4gN6sla1"
      },
      "execution_count": 27,
      "outputs": []
    },
    {
      "cell_type": "code",
      "source": [
        "model.fit(X, Y, epochs = 1000, batch_size = 256, verbose = False)"
      ],
      "metadata": {
        "colab": {
          "base_uri": "https://localhost:8080/"
        },
        "id": "VaCMNgMlsnJu",
        "outputId": "5d5f6cb1-1a26-4d58-f903-eda8cea1fb7b"
      },
      "execution_count": 28,
      "outputs": [
        {
          "output_type": "execute_result",
          "data": {
            "text/plain": [
              "<keras.callbacks.History at 0x7f03e0067fa0>"
            ]
          },
          "metadata": {},
          "execution_count": 28
        }
      ]
    },
    {
      "cell_type": "code",
      "source": [
        "weights = model.get_weights()[0]\n",
        "\n",
        "word_embedding = {}\n",
        "for word in all_words:\n",
        "  word_embedding[word] = weights[word_dict[word]]\n",
        "\n",
        "print(word_embedding)"
      ],
      "metadata": {
        "colab": {
          "base_uri": "https://localhost:8080/"
        },
        "id": "IOreDQPatvlo",
        "outputId": "1cb94529-01a5-454c-b209-769d784a253e"
      },
      "execution_count": 30,
      "outputs": [
        {
          "output_type": "stream",
          "name": "stdout",
          "text": [
            "{'man': array([-0.88487095, -0.98995346], dtype=float32), 'woman': array([1.0441873, 1.1916089], dtype=float32), 'king': array([ 1.5431489, -0.7460622], dtype=float32), 'beautiful': array([-0.8102498,  1.3852189], dtype=float32), 'boy': array([ 1.0991118, -0.7246223], dtype=float32), 'son': array([ 1.316142 , -0.2978787], dtype=float32), 'princess': array([0.01163921, 1.2036935 ], dtype=float32), 'strong': array([ 1.5350022, -1.3067528], dtype=float32), 'queen': array([-1.0724072,  1.2038423], dtype=float32), 'future': array([-0.22660935, -1.1011988 ], dtype=float32), 'daughter': array([-0.35932425,  1.323456  ], dtype=float32), 'prince': array([-0.7216977, -0.9331354], dtype=float32)}\n"
          ]
        }
      ]
    },
    {
      "cell_type": "code",
      "source": [
        "import matplotlib.pyplot as plt\n",
        "\n",
        "# plt.figure(figsize = (10, 10))\n",
        "for word in list(word_dict.keys()):\n",
        "    coord = word_embedding.get(word)\n",
        "    plt.scatter(coord[0], coord[1])\n",
        "    plt.annotate(word, (coord[0], coord[1]))\n",
        "\n"
      ],
      "metadata": {
        "colab": {
          "base_uri": "https://localhost:8080/",
          "height": 433
        },
        "id": "2jksqYIKuTke",
        "outputId": "e84d96e5-ad0e-45b0-dad3-fc6115fc2a22"
      },
      "execution_count": 32,
      "outputs": [
        {
          "output_type": "display_data",
          "data": {
            "text/plain": [
              "<Figure size 640x480 with 1 Axes>"
            ],
            "image/png": "[encoded data removed]"
          },
          "metadata": {}
        }
      ]
    },
    {
      "cell_type": "code",
      "source": [],
      "metadata": {
        "id": "tBplfu-Su1Os"
      },
      "execution_count": null,
      "outputs": []
    }
  ]
}